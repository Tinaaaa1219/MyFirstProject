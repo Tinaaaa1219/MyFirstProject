{
  "nbformat": 4,
  "nbformat_minor": 0,
  "metadata": {
    "colab": {
      "name": "myFirstNotebook.ipynb",
      "provenance": [],
      "authorship_tag": "ABX9TyNyTBG3VvKi6lJ5t9rUFVMg",
      "include_colab_link": true
    },
    "kernelspec": {
      "name": "python3",
      "display_name": "Python 3"
    },
    "language_info": {
      "name": "python"
    }
  },
  "cells": [
    {
      "cell_type": "markdown",
      "metadata": {
        "id": "view-in-github",
        "colab_type": "text"
      },
      "source": [
        "<a href=\"https://colab.research.google.com/github/Tinaaaa1219/MyFirstProject/blob/main/myFirstNotebook.ipynb\" target=\"_parent\"><img src=\"https://colab.research.google.com/assets/colab-badge.svg\" alt=\"Open In Colab\"/></a>"
      ]
    },
    {
      "cell_type": "markdown",
      "metadata": {
        "id": "T2qOexcf4WmX"
      },
      "source": [
        "# Colab Intro\n",
        "We learnt how to use it as a:\n",
        "\n",
        "\n",
        "*   caculator\n",
        "*   greeter\n",
        "\n"
      ]
    },
    {
      "cell_type": "code",
      "metadata": {
        "colab": {
          "base_uri": "https://localhost:8080/"
        },
        "id": "hztXewFx2iC0",
        "outputId": "a0451c9b-088c-4726-ecd8-90446c849068"
      },
      "source": [
        "2+2\n"
      ],
      "execution_count": 1,
      "outputs": [
        {
          "output_type": "execute_result",
          "data": {
            "text/plain": [
              "4"
            ]
          },
          "metadata": {
            "tags": []
          },
          "execution_count": 1
        }
      ]
    },
    {
      "cell_type": "code",
      "metadata": {
        "colab": {
          "base_uri": "https://localhost:8080/"
        },
        "id": "dZo_hmkW3Un9",
        "outputId": "f66d1cea-7f54-4e95-b137-a333b17aa5a4"
      },
      "source": [
        "print(\"HI, WORLD!\")"
      ],
      "execution_count": 2,
      "outputs": [
        {
          "output_type": "stream",
          "text": [
            "HI, WORLD!\n"
          ],
          "name": "stdout"
        }
      ]
    },
    {
      "cell_type": "markdown",
      "metadata": {
        "id": "7efHbtBr6VHn"
      },
      "source": [
        "#Python Intro\n"
      ]
    }
  ]
}